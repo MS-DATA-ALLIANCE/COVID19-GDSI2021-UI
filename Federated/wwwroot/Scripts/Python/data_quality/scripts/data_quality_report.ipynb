{
 "cells": [
  {
   "cell_type": "code",
   "execution_count": 1,
   "outputs": [],
   "source": [
    "# Install a pip package in the current Jupy\n",
    "# ter kernel\n",
    "import sys\n",
    "!{sys.executable} -m pip install pandas_profiling"
   ],
   "metadata": {
    "collapsed": false,
    "pycharm": {
     "name": "#%%\n",
     "is_executing": false
    }
   }
  },
  {
   "cell_type": "code",
   "execution_count": 2,
   "metadata": {
    "pycharm": {
     "is_executing": false
    }
   },
   "outputs": [],
   "source": [
    "from qmenta.core.platform import Auth, post, parse_response\n",
    "from getpass import getpass\n",
    "import pandas as pd\n",
    "\n",
    "import numpy as np\n",
    "import utils\n",
    "import utils_cleaning\n",
    "import datetime\n",
    "import pandas_profiling\n",
    "import json\n",
    "\n",
    "import os\n",
    "sys.path.append(\"../..\")\n",
    "\n",
    "from MSDA_Querry2 import querries"
   ]
  },
  {
   "cell_type": "markdown",
   "metadata": {},
   "source": [
    "## Registries"
   ]
  },
  {
   "cell_type": "code",
   "execution_count": 3,
   "metadata": {
    "pycharm": {
     "is_executing": false
    }
   },
   "outputs": [],
   "source": [
    "project_id_reg = 3202\n",
    "\n",
    "# base url to connect to the central platform\n",
    "base_url = \"https://platform.qmenta.com\"\n",
    "# PUT YOUR USERNAME (EMAIL) HERE\n",
    "username = \"clement.gautrais@kuleuven.be\"\n",
    "# you will be asked for your password here\n",
    "password = getpass()\n",
    "\n",
    "# creation of authentication object\n",
    "auth_obj = Auth.login(username, password, base_url)\n",
    "\n",
    "# method to fetch the subjects data\n",
    "def get_subjects_data(project_id):\n",
    "    r = post(auth_obj, \"/patient_manager/get_patient_list\",\n",
    "            {\"_pid\":project_id},\n",
    "            timeout=600.0)\n",
    "\n",
    "    data_trans = [{\n",
    "            \"id\": record[\"_id\"],\n",
    "            \"secret_name\":record[\"patient_secret_name\"],\n",
    "            **{\n",
    "                k[3:]:record[k]\n",
    "                for k in record\n",
    "                if k[:3] == \"md_\"\n",
    "            }\n",
    "    } for record in parse_response(r)]\n",
    "\n",
    "    for r in data_trans:\n",
    "        for k in r:\n",
    "            if isinstance(r[k], dict):\n",
    "                try:\n",
    "                    r[k] = datetime.datetime.fromtimestamp(r[k][\"$date\"]/1000.0)\n",
    "                except:\n",
    "                    r[k] = None\n",
    "\n",
    "    return data_trans"
   ]
  },
  {
   "cell_type": "code",
   "execution_count": 4,
   "outputs": [],
   "source": [
    "data_reg = get_subjects_data(project_id_reg)\n",
    "df_raw_reg = pd.DataFrame(data_reg)\n",
    "\n"
   ],
   "metadata": {
    "collapsed": false,
    "pycharm": {
     "name": "#%%\n",
     "is_executing": false
    }
   }
  },
  {
   "cell_type": "markdown",
   "metadata": {},
   "source": [
    "### Report"
   ]
  },
  {
   "cell_type": "code",
   "execution_count": 17,
   "outputs": [],
   "source": [
    "def get_interesting_profile_columns(profile, interesting_columns):\n",
    "    variables_description = json.loads(profile.to_json())[\"variables\"]\n",
    "    \n",
    "    columns_df = {}\n",
    "    columns_df[\"variable\"] = []\n",
    "    for col in interesting_columns:\n",
    "        columns_df[col] = []\n",
    "    for variable_name, infos in variables_description.items():\n",
    "        columns_df[\"variable\"].append(variable_name)\n",
    "        for col in interesting_columns:\n",
    "            columns_df[col].append(infos[col])\n",
    "    return pd.DataFrame.from_dict(columns_df)\n",
    "\n",
    "def get_latex_report(df, report_path=\"reports/report.tex\"):\n",
    "    os.makedirs(os.path.dirname(report_path), exist_ok=True)\n",
    "    \n",
    "    df_enhanced = utils.enhance_registry_data(df.copy())\n",
    "    df_enhanced.fillna(np.nan, inplace=True)\n",
    "    df_clean = utils_cleaning.clean_data(df_enhanced,auth_obj,project_id_reg, None, send_qa_staus=False) # Set to true to update qa status\n",
    "\n",
    "    profile_raw = pandas_profiling.ProfileReport(df_enhanced, minimal=True)\n",
    "    profile_clean = pandas_profiling.ProfileReport(df_clean, minimal=True)\n",
    "    \n",
    "    df_raw_missing = get_interesting_profile_columns(profile_raw, [\"n\", \"p_missing\", \"n_missing\"])\n",
    "    df_clean_missing = get_interesting_profile_columns(profile_clean, [\"n\", \"p_missing\", \"n_missing\"])\n",
    "    \n",
    "    df_raw_missing.rename(columns={\"p_missing\": \"p_missing_raw_data\", \"n_missing\": \"n_missing_raw_data\"}, inplace=True)\n",
    "    df_clean_missing.rename(columns={\"p_missing\": \"p_missing_clean_data\", \"n_missing\": \"n_missing_clean_data\"}, inplace=True)\n",
    "    df_clean_missing.drop(\"n\", axis=1, inplace=True)\n",
    "    \n",
    "    df_missing_info = pd.merge(df_raw_missing, df_clean_missing, on=\"variable\")\n",
    "    df_missing_info.sort_values(\"variable\", inplace=True)\n",
    "    df_missing_info.to_latex(report_path, index=False)"
   ],
   "metadata": {
    "collapsed": false,
    "pycharm": {
     "name": "#%%\n",
     "is_executing": false
    }
   }
  },
  {
   "cell_type": "code",
   "execution_count": 18,
   "outputs": [
    {
     "data": {
      "text/plain": "HBox(children=(FloatProgress(value=0.0, description='Summarize dataset', max=109.0, style=ProgressStyle(descri…",
      "application/vnd.jupyter.widget-view+json": {
       "version_major": 2,
       "version_minor": 0,
       "model_id": "956ed42d4eb94b18b9fcde88e5eea777"
      }
     },
     "metadata": {},
     "output_type": "display_data"
    },
    {
     "name": "stdout",
     "text": [
      "\n",
      "\n",
      "\n",
      "\n"
     ],
     "output_type": "stream"
    },
    {
     "data": {
      "text/plain": "HBox(children=(FloatProgress(value=0.0, description='Render JSON', max=1.0, style=ProgressStyle(description_wi…",
      "application/vnd.jupyter.widget-view+json": {
       "version_major": 2,
       "version_minor": 0,
       "model_id": "c2a5f916ecf34e3ca6ae2940df9bfdc3"
      }
     },
     "metadata": {},
     "output_type": "display_data"
    },
    {
     "data": {
      "text/plain": "HBox(children=(FloatProgress(value=0.0, description='Summarize dataset', max=109.0, style=ProgressStyle(descri…",
      "application/vnd.jupyter.widget-view+json": {
       "version_major": 2,
       "version_minor": 0,
       "model_id": "c648839c456945fcb25e070d0be25538"
      }
     },
     "metadata": {},
     "output_type": "display_data"
    },
    {
     "data": {
      "text/plain": "HBox(children=(FloatProgress(value=0.0, description='Render JSON', max=1.0, style=ProgressStyle(description_wi…",
      "application/vnd.jupyter.widget-view+json": {
       "version_major": 2,
       "version_minor": 0,
       "model_id": "6fa6f0ecceab47c28be632b4bff894fa"
      }
     },
     "metadata": {},
     "output_type": "display_data"
    }
   ],
   "source": [
    "get_latex_report(df_raw_reg, \"reports/report_reg.tex\")\n"
   ],
   "metadata": {
    "collapsed": false,
    "pycharm": {
     "name": "#%%\n",
     "is_executing": false
    }
   }
  },
  {
   "cell_type": "markdown",
   "metadata": {},
   "source": [
    "## Forms"
   ]
  },
  {
   "cell_type": "code",
   "execution_count": 11,
   "metadata": {
    "pycharm": {
     "is_executing": false
    }
   },
   "outputs": [],
   "source": [
    "project_id_forms = 3150\n",
    "data_forms = get_subjects_data(project_id_forms)"
   ]
  },
  {
   "cell_type": "code",
   "execution_count": 19,
   "outputs": [
    {
     "data": {
      "text/plain": "HBox(children=(FloatProgress(value=0.0, description='Summarize dataset', max=113.0, style=ProgressStyle(descri…",
      "application/vnd.jupyter.widget-view+json": {
       "version_major": 2,
       "version_minor": 0,
       "model_id": "e98a21e5a4024ba6bd1725f4048000df"
      }
     },
     "metadata": {},
     "output_type": "display_data"
    },
    {
     "name": "stdout",
     "text": [
      "\n",
      "\n",
      "\n",
      "\n"
     ],
     "output_type": "stream"
    },
    {
     "data": {
      "text/plain": "HBox(children=(FloatProgress(value=0.0, description='Render JSON', max=1.0, style=ProgressStyle(description_wi…",
      "application/vnd.jupyter.widget-view+json": {
       "version_major": 2,
       "version_minor": 0,
       "model_id": "a6614195a07442c8a5bc111e4ecf1fca"
      }
     },
     "metadata": {},
     "output_type": "display_data"
    },
    {
     "data": {
      "text/plain": "HBox(children=(FloatProgress(value=0.0, description='Summarize dataset', max=113.0, style=ProgressStyle(descri…",
      "application/vnd.jupyter.widget-view+json": {
       "version_major": 2,
       "version_minor": 0,
       "model_id": "adb9f026c7c3467e9a28475495eef4fc"
      }
     },
     "metadata": {},
     "output_type": "display_data"
    },
    {
     "data": {
      "text/plain": "HBox(children=(FloatProgress(value=0.0, description='Render JSON', max=1.0, style=ProgressStyle(description_wi…",
      "application/vnd.jupyter.widget-view+json": {
       "version_major": 2,
       "version_minor": 0,
       "model_id": "79d9fc5f9338495fa8e005fac57cf69a"
      }
     },
     "metadata": {},
     "output_type": "display_data"
    }
   ],
   "source": [
    "df_raw_forms = pd.DataFrame(data_forms)\n",
    "get_latex_report(df_raw_forms, \"reports/report_forms.tex\")\n"
   ],
   "metadata": {
    "collapsed": false,
    "pycharm": {
     "name": "#%%\n",
     "is_executing": false
    }
   }
  },
  {
   "cell_type": "code",
   "execution_count": 20,
   "outputs": [
    {
     "data": {
      "text/plain": "HBox(children=(FloatProgress(value=0.0, description='Summarize dataset', max=114.0, style=ProgressStyle(descri…",
      "application/vnd.jupyter.widget-view+json": {
       "version_major": 2,
       "version_minor": 0,
       "model_id": "97484fece0cf457ebf5f28273b0c3aec"
      }
     },
     "metadata": {},
     "output_type": "display_data"
    },
    {
     "name": "stdout",
     "text": [
      "\n",
      "\n",
      "\n",
      "\n"
     ],
     "output_type": "stream"
    },
    {
     "data": {
      "text/plain": "HBox(children=(FloatProgress(value=0.0, description='Render JSON', max=1.0, style=ProgressStyle(description_wi…",
      "application/vnd.jupyter.widget-view+json": {
       "version_major": 2,
       "version_minor": 0,
       "model_id": "30c7e8db2eef4e7c8ef68230e43fb995"
      }
     },
     "metadata": {},
     "output_type": "display_data"
    },
    {
     "data": {
      "text/plain": "HBox(children=(FloatProgress(value=0.0, description='Summarize dataset', max=114.0, style=ProgressStyle(descri…",
      "application/vnd.jupyter.widget-view+json": {
       "version_major": 2,
       "version_minor": 0,
       "model_id": "7b4f03c0c1e54f29a7a36ee9b10531ff"
      }
     },
     "metadata": {},
     "output_type": "display_data"
    },
    {
     "data": {
      "text/plain": "HBox(children=(FloatProgress(value=0.0, description='Render JSON', max=1.0, style=ProgressStyle(description_wi…",
      "application/vnd.jupyter.widget-view+json": {
       "version_major": 2,
       "version_minor": 0,
       "model_id": "ef7087ef2e884f1aae81e4d2fb0a705a"
      }
     },
     "metadata": {},
     "output_type": "display_data"
    }
   ],
   "source": [
    "merged_df = pd.concat([df_raw_forms, df_raw_reg])\n",
    "get_latex_report(merged_df, \"reports/report_all.tex\")"
   ],
   "metadata": {
    "collapsed": false,
    "pycharm": {
     "name": "#%%\n",
     "is_executing": false
    }
   }
  },
  {
   "cell_type": "code",
   "execution_count": 15,
   "outputs": [
    {
     "name": "stderr",
     "text": [
      "c:\\users\\clement\\anaconda3\\envs\\ms-wrangling\\lib\\site-packages\\pandas\\core\\ops\\array_ops.py:253: FutureWarning: elementwise comparison failed; returning scalar instead, but in the future will perform elementwise comparison\n",
      "  res_values = method(rvalues)\n"
     ],
     "output_type": "stream"
    }
   ],
   "source": [
    "df_enhanced_all = utils.enhance_registry_data(merged_df.copy())\n",
    "df_enhanced_all = utils_cleaning.clean_data(df_enhanced_all,auth_obj,project_id_reg, None, send_qa_staus=False) # Set to true to update qa status\n",
    "\n",
    "querries.compute_tables(df_enhanced_all[df_enhanced_all[\"report_source\"]==\"patients\"], report_source = \"patients\")"
   ],
   "metadata": {
    "collapsed": false,
    "pycharm": {
     "name": "#%%\n",
     "is_executing": false
    }
   }
  },
  {
   "cell_type": "code",
   "execution_count": 16,
   "outputs": [],
   "source": [
    "querries.compute_tables(df_enhanced_all[df_enhanced_all[\"report_source\"]==\"clinicians\"], report_source = \"clinicians\")"
   ],
   "metadata": {
    "collapsed": false,
    "pycharm": {
     "name": "#%%\n",
     "is_executing": false
    }
   }
  }
 ],
 "metadata": {
  "kernelspec": {
   "display_name": "Python 3",
   "language": "python",
   "name": "python3"
  },
  "language_info": {
   "codemirror_mode": {
    "name": "ipython",
    "version": 3
   },
   "file_extension": ".py",
   "mimetype": "text/x-python",
   "name": "python",
   "nbconvert_exporter": "python",
   "pygments_lexer": "ipython3",
   "version": "3.6.8"
  },
  "pycharm": {
   "stem_cell": {
    "cell_type": "raw",
    "source": [],
    "metadata": {
     "collapsed": false
    }
   }
  }
 },
 "nbformat": 4,
 "nbformat_minor": 2
}