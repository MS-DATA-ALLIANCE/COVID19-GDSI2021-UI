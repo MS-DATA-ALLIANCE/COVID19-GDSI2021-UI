{
 "cells": [
  {
   "cell_type": "code",
   "execution_count": 5,
   "metadata": {
    "collapsed": false,
    "pycharm": {
     "is_executing": false,
     "name": "#%%\n"
    }
   },
   "outputs": [
    {
     "name": "stdout",
     "output_type": "stream",
     "text": [
      "Requirement already satisfied: numpy in /opt/conda/lib/python3.6/site-packages (1.19.1)\n"
     ]
    }
   ],
   "source": [
    "# Install a pip package in the current Jupy\n",
    "# ter kernel\n",
    "import sys\n",
    "#!{sys.executable} -m pip uninstall -y pandas\n",
    "#!{sys.executable} -m pip install pandas==1.0.3\n",
    "#!{sys.executable} -m pip install pandas_profiling\n",
    "!{sys.executable} -m pip install numpy"
   ]
  },
  {
   "cell_type": "code",
   "execution_count": 2,
   "metadata": {
    "pycharm": {
     "is_executing": false
    }
   },
   "outputs": [],
   "source": [
    "from qmenta.core.platform import Auth, post, parse_response\n",
    "from getpass import getpass\n",
    "import pandas as pd\n",
    "\n",
    "import numpy as np\n",
    "import utils\n",
    "import utils_cleaning\n",
    "import datetime\n",
    "import pandas_profiling\n",
    "import json\n",
    "\n",
    "import os\n",
    "#sys.path.append(\"../..\")\n",
    "\n",
    "import querries_qmenta_temp2\n",
    "from pandas_profiling import ProfileReport"
   ]
  },
  {
   "cell_type": "code",
   "execution_count": 3,
   "metadata": {},
   "outputs": [
    {
     "data": {
      "text/plain": [
       "<module 'querries_qmenta_temp2' from '/home/jovyan/code_Clement/querries_qmenta_temp2.py'>"
      ]
     },
     "execution_count": 3,
     "metadata": {},
     "output_type": "execute_result"
    }
   ],
   "source": [
    "import importlib \n",
    "importlib.reload(querries_qmenta_temp2)"
   ]
  },
  {
   "cell_type": "markdown",
   "metadata": {},
   "source": [
    "## Fetch Data from Registries"
   ]
  },
  {
   "cell_type": "code",
   "execution_count": 4,
   "metadata": {
    "pycharm": {
     "is_executing": false
    }
   },
   "outputs": [
    {
     "name": "stdin",
     "output_type": "stream",
     "text": [
      " ····················\n"
     ]
    }
   ],
   "source": [
    "project_id_reg = 3202\n",
    "\n",
    "# base url to connect to the central platform\n",
    "base_url = \"https://platform.qmenta.com\"\n",
    "# PUT YOUR USERNAME (EMAIL) HERE\n",
    "username = \"tina.parciak@med.uni-goettingen.de\"\n",
    "# you will be asked for your password here\n",
    "password = getpass()\n",
    "\n",
    "# creation of authentication object\n",
    "auth_obj = Auth.login(username, password, base_url)\n",
    "\n",
    "# method to fetch the subjects data\n",
    "def get_subjects_data(project_id):\n",
    "    r = post(auth_obj, \"/patient_manager/get_patient_list\",\n",
    "            {\"_pid\":project_id},\n",
    "            timeout=600.0)\n",
    "\n",
    "    data_trans = [{\n",
    "            \"id\": record[\"_id\"],\n",
    "            \"secret_name\":record[\"patient_secret_name\"],\n",
    "            **{\n",
    "                k[3:]:record[k]\n",
    "                for k in record\n",
    "                if k[:3] == \"md_\"\n",
    "            }\n",
    "    } for record in parse_response(r)]\n",
    "\n",
    "    for r in data_trans:\n",
    "        for k in r:\n",
    "            if isinstance(r[k], dict):\n",
    "                try:\n",
    "                    r[k] = datetime.datetime.fromtimestamp(r[k][\"$date\"]/1000.0)\n",
    "                except:\n",
    "                    r[k] = None\n",
    "\n",
    "    return data_trans"
   ]
  },
  {
   "cell_type": "code",
   "execution_count": 5,
   "metadata": {
    "collapsed": false,
    "pycharm": {
     "is_executing": false,
     "name": "#%%\n"
    }
   },
   "outputs": [],
   "source": [
    "data_reg = get_subjects_data(project_id_reg)\n",
    "df_raw_reg = pd.DataFrame(data_reg)"
   ]
  },
  {
   "cell_type": "markdown",
   "metadata": {},
   "source": [
    "## Fetch Data from direct Entry (Forms)"
   ]
  },
  {
   "cell_type": "code",
   "execution_count": 6,
   "metadata": {
    "pycharm": {
     "is_executing": false
    }
   },
   "outputs": [],
   "source": [
    "project_id_forms = 3150\n",
    "data_forms = get_subjects_data(project_id_forms)"
   ]
  },
  {
   "cell_type": "code",
   "execution_count": 7,
   "metadata": {
    "collapsed": false,
    "pycharm": {
     "is_executing": false,
     "name": "#%%\n"
    }
   },
   "outputs": [],
   "source": [
    "df_raw_forms = pd.DataFrame(data_forms)"
   ]
  },
  {
   "cell_type": "markdown",
   "metadata": {},
   "source": [
    "## Building the .tex reports of completeness of data"
   ]
  },
  {
   "cell_type": "code",
   "execution_count": 8,
   "metadata": {},
   "outputs": [],
   "source": [
    "def get_interesting_profile_columns(profile, interesting_columns):\n",
    "    variables_description = json.loads(profile.to_json())[\"variables\"]\n",
    "    \n",
    "    columns_df = {}\n",
    "    columns_df[\"variable\"] = []\n",
    "    for col in interesting_columns:\n",
    "        columns_df[col] = []\n",
    "    for variable_name, infos in variables_description.items():\n",
    "        columns_df[\"variable\"].append(variable_name)\n",
    "        for col in interesting_columns:\n",
    "            columns_df[col].append(infos[col])\n",
    "    return pd.DataFrame.from_dict(columns_df)\n",
    "\n",
    "def get_latex_report(df, report_path=\"reports/report.tex\"):\n",
    "    os.makedirs(os.path.dirname(report_path), exist_ok=True)\n",
    "    \n",
    "    df_enhanced = utils.enhance_registry_data(df.copy())\n",
    "    df_enhanced.fillna(np.nan, inplace=True)\n",
    "    df_clean = utils_cleaning.clean_data(df_enhanced,auth_obj,project_id_reg, None, send_qa_staus=False) # Set to true to update qa status\n",
    "\n",
    "    profile_raw = pandas_profiling.ProfileReport(df_enhanced, minimal=True)\n",
    "    profile_clean = pandas_profiling.ProfileReport(df_clean, minimal=True)\n",
    "    \n",
    "    df_raw_missing = get_interesting_profile_columns(profile_raw, [\"n\", \"p_missing\", \"n_missing\"])\n",
    "    df_clean_missing = get_interesting_profile_columns(profile_clean, [\"n\", \"p_missing\", \"n_missing\"])\n",
    "    \n",
    "    df_raw_missing.rename(columns={\"p_missing\": \"p_missing_raw_data\", \"n_missing\": \"n_missing_raw_data\"}, inplace=True)\n",
    "    df_clean_missing.rename(columns={\"p_missing\": \"p_missing_clean_data\", \"n_missing\": \"n_missing_clean_data\"}, inplace=True)\n",
    "    df_clean_missing.drop(\"n\", axis=1, inplace=True)\n",
    "    \n",
    "    df_missing_info = pd.merge(df_raw_missing, df_clean_missing, on=\"variable\")\n",
    "    df_missing_info.sort_values(\"variable\", inplace=True)\n",
    "    df_missing_info.to_latex(report_path, index=False)"
   ]
  },
  {
   "cell_type": "code",
   "execution_count": 9,
   "metadata": {},
   "outputs": [
    {
     "data": {
      "application/vnd.jupyter.widget-view+json": {
       "model_id": "c2fa82bd5fd8422e845a5742e2eea9b4",
       "version_major": 2,
       "version_minor": 0
      },
      "text/plain": [
       "HBox(children=(FloatProgress(value=0.0, description='Summarize dataset', max=109.0, style=ProgressStyle(descri…"
      ]
     },
     "metadata": {},
     "output_type": "display_data"
    },
    {
     "name": "stdout",
     "output_type": "stream",
     "text": [
      "\n"
     ]
    },
    {
     "data": {
      "application/vnd.jupyter.widget-view+json": {
       "model_id": "bc832e00dd0f4821a34dfd4853f43271",
       "version_major": 2,
       "version_minor": 0
      },
      "text/plain": [
       "HBox(children=(FloatProgress(value=0.0, description='Render JSON', max=1.0, style=ProgressStyle(description_wi…"
      ]
     },
     "metadata": {},
     "output_type": "display_data"
    },
    {
     "name": "stdout",
     "output_type": "stream",
     "text": [
      "\n"
     ]
    },
    {
     "data": {
      "application/vnd.jupyter.widget-view+json": {
       "model_id": "3352092690b04d2ab888ecde3ca8ce49",
       "version_major": 2,
       "version_minor": 0
      },
      "text/plain": [
       "HBox(children=(FloatProgress(value=0.0, description='Summarize dataset', max=109.0, style=ProgressStyle(descri…"
      ]
     },
     "metadata": {},
     "output_type": "display_data"
    },
    {
     "name": "stdout",
     "output_type": "stream",
     "text": [
      "\n"
     ]
    },
    {
     "data": {
      "application/vnd.jupyter.widget-view+json": {
       "model_id": "1087f7c90cc649a59de3391c8d84fe69",
       "version_major": 2,
       "version_minor": 0
      },
      "text/plain": [
       "HBox(children=(FloatProgress(value=0.0, description='Render JSON', max=1.0, style=ProgressStyle(description_wi…"
      ]
     },
     "metadata": {},
     "output_type": "display_data"
    },
    {
     "name": "stdout",
     "output_type": "stream",
     "text": [
      "\n"
     ]
    }
   ],
   "source": [
    "# Build .tex file of raw and cleaned data (n/%) of registry uploads\n",
    "get_latex_report(df_raw_reg, \"reports/report_reg.tex\")"
   ]
  },
  {
   "cell_type": "code",
   "execution_count": 10,
   "metadata": {},
   "outputs": [
    {
     "data": {
      "application/vnd.jupyter.widget-view+json": {
       "model_id": "a679500175c74e1fb26e24d5cc118452",
       "version_major": 2,
       "version_minor": 0
      },
      "text/plain": [
       "HBox(children=(FloatProgress(value=0.0, description='Summarize dataset', max=113.0, style=ProgressStyle(descri…"
      ]
     },
     "metadata": {},
     "output_type": "display_data"
    },
    {
     "name": "stdout",
     "output_type": "stream",
     "text": [
      "\n"
     ]
    },
    {
     "data": {
      "application/vnd.jupyter.widget-view+json": {
       "model_id": "dada3d27111c4c8a9129db4d876820a0",
       "version_major": 2,
       "version_minor": 0
      },
      "text/plain": [
       "HBox(children=(FloatProgress(value=0.0, description='Render JSON', max=1.0, style=ProgressStyle(description_wi…"
      ]
     },
     "metadata": {},
     "output_type": "display_data"
    },
    {
     "name": "stdout",
     "output_type": "stream",
     "text": [
      "\n"
     ]
    },
    {
     "data": {
      "application/vnd.jupyter.widget-view+json": {
       "model_id": "45e52b91478d438e952a6249becc0a1c",
       "version_major": 2,
       "version_minor": 0
      },
      "text/plain": [
       "HBox(children=(FloatProgress(value=0.0, description='Summarize dataset', max=113.0, style=ProgressStyle(descri…"
      ]
     },
     "metadata": {},
     "output_type": "display_data"
    },
    {
     "name": "stdout",
     "output_type": "stream",
     "text": [
      "\n"
     ]
    },
    {
     "data": {
      "application/vnd.jupyter.widget-view+json": {
       "model_id": "23ae2d26f9d54f0a96082ec7fc3d1b07",
       "version_major": 2,
       "version_minor": 0
      },
      "text/plain": [
       "HBox(children=(FloatProgress(value=0.0, description='Render JSON', max=1.0, style=ProgressStyle(description_wi…"
      ]
     },
     "metadata": {},
     "output_type": "display_data"
    },
    {
     "name": "stdout",
     "output_type": "stream",
     "text": [
      "\n"
     ]
    }
   ],
   "source": [
    "# Build .tex file of raw and cleaned data (n/%) of direct entry data (forms)\n",
    "get_latex_report(df_raw_forms, \"reports/report_forms.tex\")"
   ]
  },
  {
   "cell_type": "code",
   "execution_count": 11,
   "metadata": {
    "collapsed": false,
    "pycharm": {
     "is_executing": false,
     "name": "#%%\n"
    }
   },
   "outputs": [
    {
     "data": {
      "application/vnd.jupyter.widget-view+json": {
       "model_id": "5966ab5d43fb44909a9ca3a4550bd369",
       "version_major": 2,
       "version_minor": 0
      },
      "text/plain": [
       "HBox(children=(FloatProgress(value=0.0, description='Summarize dataset', max=114.0, style=ProgressStyle(descri…"
      ]
     },
     "metadata": {},
     "output_type": "display_data"
    },
    {
     "name": "stdout",
     "output_type": "stream",
     "text": [
      "\n"
     ]
    },
    {
     "data": {
      "application/vnd.jupyter.widget-view+json": {
       "model_id": "8ad4d83b522b4d2aa8e8857f44812720",
       "version_major": 2,
       "version_minor": 0
      },
      "text/plain": [
       "HBox(children=(FloatProgress(value=0.0, description='Render JSON', max=1.0, style=ProgressStyle(description_wi…"
      ]
     },
     "metadata": {},
     "output_type": "display_data"
    },
    {
     "name": "stdout",
     "output_type": "stream",
     "text": [
      "\n"
     ]
    },
    {
     "data": {
      "application/vnd.jupyter.widget-view+json": {
       "model_id": "bc3fa20d810d477ba0efb0027f19baf9",
       "version_major": 2,
       "version_minor": 0
      },
      "text/plain": [
       "HBox(children=(FloatProgress(value=0.0, description='Summarize dataset', max=114.0, style=ProgressStyle(descri…"
      ]
     },
     "metadata": {},
     "output_type": "display_data"
    },
    {
     "name": "stdout",
     "output_type": "stream",
     "text": [
      "\n"
     ]
    },
    {
     "data": {
      "application/vnd.jupyter.widget-view+json": {
       "model_id": "5d02f03c0b404c979974c3338033b1c4",
       "version_major": 2,
       "version_minor": 0
      },
      "text/plain": [
       "HBox(children=(FloatProgress(value=0.0, description='Render JSON', max=1.0, style=ProgressStyle(description_wi…"
      ]
     },
     "metadata": {},
     "output_type": "display_data"
    },
    {
     "name": "stdout",
     "output_type": "stream",
     "text": [
      "\n"
     ]
    }
   ],
   "source": [
    "# Build .tex file of merged raw and cleaned data (n/%) (registry + forms)\n",
    "merged_df = pd.concat([df_raw_forms, df_raw_reg])\n",
    "get_latex_report(merged_df, \"reports/report_all.tex\")"
   ]
  },
  {
   "cell_type": "code",
   "execution_count": null,
   "metadata": {},
   "outputs": [],
   "source": [
    "merged_df.info()"
   ]
  },
  {
   "cell_type": "markdown",
   "metadata": {},
   "source": [
    "## Enhancement of Data"
   ]
  },
  {
   "cell_type": "code",
   "execution_count": 12,
   "metadata": {
    "collapsed": false,
    "pycharm": {
     "is_executing": false,
     "name": "#%%\n"
    }
   },
   "outputs": [],
   "source": [
    "# Enhance and clean data\n",
    "df_enhanced_all = utils.enhance_registry_data(merged_df.copy())\n",
    "df_cleaned_all = utils_cleaning.clean_data(df_enhanced_all,auth_obj,project_id_reg, None, send_qa_staus=False) # Set to true to update qa status"
   ]
  },
  {
   "cell_type": "code",
   "execution_count": 13,
   "metadata": {},
   "outputs": [],
   "source": [
    "df = df_cleaned_all[df_cleaned_all[\"report_source\"]==\"patients\"]\n",
    "cols = list(df.columns.values)\n",
    "#cols.index('covid19_country')"
   ]
  },
  {
   "cell_type": "markdown",
   "metadata": {},
   "source": [
    "## Basic description/counts for PRO data"
   ]
  },
  {
   "cell_type": "code",
   "execution_count": 14,
   "metadata": {},
   "outputs": [],
   "source": [
    "## counts per country\n",
    "dfCountry = df.copy()\n",
    "dfCountry['covid19_country'] = df['covid19_country'].str.upper().str.replace(\" \",\"\").str.replace(\"^.*DEUTSCH.*$\",\"GERMANY\",regex=True).str.replace(\"_\",\"\").str.replace(\"^.*UNITEDKING.*$\",\"UNITEDKINGDOM\").str.replace(\"^.*UNITEDSTA.*$\",\"USA\")\n",
    "\n",
    "res = dfCountry.groupby(['covid19_country']).count()\n",
    "res.to_csv('reports/country_counts2.csv')"
   ]
  },
  {
   "cell_type": "code",
   "execution_count": 12,
   "metadata": {},
   "outputs": [],
   "source": [
    "# Description of numeric data of patient data (enhanced)\n",
    "dfP_enhanced = df_enhanced_all[df_enhanced_all[\"report_source\"]==\"patients\"]\n",
    "dfP_enhanced.describe().to_csv('reports/descr_dfP_enhanced.csv')"
   ]
  },
  {
   "cell_type": "code",
   "execution_count": 13,
   "metadata": {},
   "outputs": [],
   "source": [
    "# Description of numeric data of patient data (cleaned)\n",
    "dfP_cleaned = df_cleaned_all[df_cleaned_all[\"report_source\"]==\"patients\"]\n",
    "dfP_cleaned.describe().to_csv('reports/descr_dfP_cleaned.csv',index=False)"
   ]
  },
  {
   "cell_type": "markdown",
   "metadata": {},
   "source": [
    "## Computing statistical tables and .tex-profile für enhanced data"
   ]
  },
  {
   "cell_type": "code",
   "execution_count": null,
   "metadata": {},
   "outputs": [],
   "source": [
    "querries_qmenta_temp2.compute_tables(df_cleaned_all[df_enhanced_all[\"report_source\"]==\"patients\"], report_source = \"patients\", report_function=get_latex_report)"
   ]
  },
  {
   "cell_type": "code",
   "execution_count": null,
   "metadata": {
    "collapsed": false,
    "pycharm": {
     "is_executing": false,
     "name": "#%%\n"
    }
   },
   "outputs": [],
   "source": [
    "querries_qmenta_temp2.compute_tables(df_cleaned_all[df_enhanced_all[\"report_source\"]==\"clinicians\"], report_source = \"clinicians\", report_function=get_latex_report)"
   ]
  }
 ],
 "metadata": {
  "kernelspec": {
   "display_name": "Python 3",
   "language": "python",
   "name": "python3"
  },
  "language_info": {
   "codemirror_mode": {
    "name": "ipython",
    "version": 3
   },
   "file_extension": ".py",
   "mimetype": "text/x-python",
   "name": "python",
   "nbconvert_exporter": "python",
   "pygments_lexer": "ipython3",
   "version": "3.6.7"
  },
  "pycharm": {
   "stem_cell": {
    "cell_type": "raw",
    "metadata": {
     "collapsed": false
    },
    "source": []
   }
  }
 },
 "nbformat": 4,
 "nbformat_minor": 2
}
