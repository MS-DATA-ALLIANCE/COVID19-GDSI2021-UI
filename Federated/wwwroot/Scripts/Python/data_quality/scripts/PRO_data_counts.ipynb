{
 "cells": [
  {
   "cell_type": "code",
   "execution_count": null,
   "metadata": {
    "collapsed": false,
    "pycharm": {
     "is_executing": false,
     "name": "#%%\n"
    }
   },
   "outputs": [],
   "source": [
    "# Install a pip package in the current Jupy\n",
    "# ter kernel\n",
    "import sys\n",
    "!{sys.executable} -m pip uninstall -y pandas\n",
    "!{sys.executable} -m pip install pandas==1.0.3\n",
    "!{sys.executable} -m pip install pandas_profiling\n",
    "!{sys.executable} -m pip install numpy"
   ]
  },
  {
   "cell_type": "code",
   "execution_count": 4,
   "metadata": {
    "pycharm": {
     "is_executing": false
    }
   },
   "outputs": [],
   "source": [
    "from qmenta.core.platform import Auth, post, parse_response\n",
    "from getpass import getpass\n",
    "import pandas as pd\n",
    "\n",
    "import numpy as np\n",
    "import utils\n",
    "import utils_cleaning\n",
    "import datetime\n",
    "import pandas_profiling\n",
    "import json\n",
    "\n",
    "import os\n",
    "#sys.path.append(\"../..\")\n",
    "\n",
    "import querries_qmenta_temp2\n",
    "from pandas_profiling import ProfileReport"
   ]
  },
  {
   "cell_type": "code",
   "execution_count": 2,
   "metadata": {},
   "outputs": [
    {
     "data": {
      "text/plain": [
       "<module 'querries_qmenta_temp2' from '/home/jovyan/data-wrangling-MS/data_quality/scripts/querries_qmenta_temp2.py'>"
      ]
     },
     "execution_count": 2,
     "metadata": {},
     "output_type": "execute_result"
    }
   ],
   "source": [
    "import importlib \n",
    "importlib.reload(querries_qmenta_temp2)"
   ]
  },
  {
   "cell_type": "markdown",
   "metadata": {},
   "source": [
    "## Fetch Data from Registries"
   ]
  },
  {
   "cell_type": "code",
   "execution_count": 5,
   "metadata": {
    "pycharm": {
     "is_executing": false
    }
   },
   "outputs": [
    {
     "name": "stdin",
     "output_type": "stream",
     "text": [
      " ····················\n"
     ]
    }
   ],
   "source": [
    "project_id_reg = 3202\n",
    "\n",
    "# base url to connect to the central platform\n",
    "base_url = \"https://platform.qmenta.com\"\n",
    "# PUT YOUR USERNAME (EMAIL) HERE\n",
    "username = \"tina.parciak@med.uni-goettingen.de\"\n",
    "# you will be asked for your password here\n",
    "password = getpass()\n",
    "\n",
    "# creation of authentication object\n",
    "auth_obj = Auth.login(username, password, base_url)\n",
    "\n",
    "# method to fetch the subjects data\n",
    "def get_subjects_data(project_id):\n",
    "    r = post(auth_obj, \"/patient_manager/get_patient_list\",\n",
    "            {\"_pid\":project_id},\n",
    "            timeout=600.0)\n",
    "\n",
    "    data_trans = [{\n",
    "            \"id\": record[\"_id\"],\n",
    "            \"secret_name\":record[\"patient_secret_name\"],\n",
    "            **{\n",
    "                k[3:]:record[k]\n",
    "                for k in record\n",
    "                if k[:3] == \"md_\"\n",
    "            }\n",
    "    } for record in parse_response(r)]\n",
    "\n",
    "    for r in data_trans:\n",
    "        for k in r:\n",
    "            if isinstance(r[k], dict):\n",
    "                try:\n",
    "                    r[k] = datetime.datetime.fromtimestamp(r[k][\"$date\"]/1000.0)\n",
    "                except:\n",
    "                    r[k] = None\n",
    "\n",
    "    return data_trans"
   ]
  },
  {
   "cell_type": "code",
   "execution_count": 6,
   "metadata": {
    "collapsed": false,
    "pycharm": {
     "is_executing": false,
     "name": "#%%\n"
    }
   },
   "outputs": [],
   "source": [
    "data_reg = get_subjects_data(project_id_reg)\n",
    "df_raw_reg = pd.DataFrame(data_reg)"
   ]
  },
  {
   "cell_type": "markdown",
   "metadata": {},
   "source": [
    "## Fetch Data from direct Entry (Forms)"
   ]
  },
  {
   "cell_type": "code",
   "execution_count": 7,
   "metadata": {
    "pycharm": {
     "is_executing": false
    }
   },
   "outputs": [],
   "source": [
    "project_id_forms = 3150\n",
    "data_forms = get_subjects_data(project_id_forms)"
   ]
  },
  {
   "cell_type": "code",
   "execution_count": 8,
   "metadata": {
    "collapsed": false,
    "pycharm": {
     "is_executing": false,
     "name": "#%%\n"
    }
   },
   "outputs": [],
   "source": [
    "df_raw_forms = pd.DataFrame(data_forms)"
   ]
  },
  {
   "cell_type": "code",
   "execution_count": 9,
   "metadata": {
    "collapsed": false,
    "pycharm": {
     "is_executing": false,
     "name": "#%%\n"
    }
   },
   "outputs": [],
   "source": [
    "# Build .tex file of merged raw and cleaned data (n/%) (registry + forms)\n",
    "merged_df = pd.concat([df_raw_forms, df_raw_reg])"
   ]
  },
  {
   "cell_type": "code",
   "execution_count": null,
   "metadata": {},
   "outputs": [],
   "source": [
    "merged_df.info()"
   ]
  },
  {
   "cell_type": "markdown",
   "metadata": {},
   "source": [
    "## Enhancement of Data"
   ]
  },
  {
   "cell_type": "code",
   "execution_count": 10,
   "metadata": {
    "collapsed": false,
    "pycharm": {
     "is_executing": false,
     "name": "#%%\n"
    }
   },
   "outputs": [],
   "source": [
    "# Enhance and clean data\n",
    "df_enhanced_all = utils.enhance_registry_data(merged_df.copy())\n",
    "df_cleaned_all = utils_cleaning.clean_data(df_enhanced_all,auth_obj,project_id_reg, None, send_qa_staus=False) # Set to true to update qa status"
   ]
  },
  {
   "cell_type": "code",
   "execution_count": null,
   "metadata": {},
   "outputs": [],
   "source": [
    "df = df_cleaned_all[df_cleaned_all[\"report_source\"]==\"patients\"]\n",
    "cols = list(df.columns.values)\n",
    "cols"
   ]
  },
  {
   "cell_type": "markdown",
   "metadata": {},
   "source": [
    "## Basic description/counts for PRO data"
   ]
  },
  {
   "cell_type": "code",
   "execution_count": 110,
   "metadata": {},
   "outputs": [],
   "source": [
    "## counts per country\n",
    "dfCountry = df.copy()\n",
    "#dfCountry[[\"secret_name\",\"covid19_country\"]].to_csv('test_country.csv')\n",
    "dfCountry['covid19_country'] = df['covid19_country'].str.upper().str.replace(\" \",\"\").str.replace(\"^$\",\"NaN\").str.replace(\"^.*DEUTSCH.*$\",\"GERMANY\",regex=True).str.replace(\"_\",\"\").str.replace(\"^.*UNITEDKING.*$\",\"UNITEDKINGDOM\").str.replace(\"^.*UNITEDSTA.*$\",\"USA\")\n",
    "\n",
    "# basic stats (count) for each selected variable in PRO data, grouped by country\n",
    "res = dfCountry.groupby(['covid19_country']).count()\n",
    "res.to_csv('reports/country_counts_general.csv')\n",
    "#res.to_csv('reports/country_counts_general.txt', index=False, sep='\\t')\n",
    "\n",
    "# basic stats (mean) for each selected variable in PRO data, grouped by country\n",
    "res2 = dfCountry.groupby(['covid19_country']).mean()\n",
    "\n",
    "# basic stats (count,min,max) for each selected numerical variable in PRO data, grouped by country\n",
    "res3 = dfCountry.groupby(['covid19_country']).describe()\n",
    "res3.to_csv('reports/datastats_per_country2.csv')\n"
   ]
  },
  {
   "cell_type": "code",
   "execution_count": 111,
   "metadata": {},
   "outputs": [
    {
     "name": "stdout",
     "output_type": "stream",
     "text": [
      "Total patient reported data count: 3337,\n",
      "Confirmed cases (raw): 41,\n",
      "Suspected cases (raw): 96,\n",
      "no infection (raw): 1981\n"
     ]
    }
   ],
   "source": [
    "# counts per country by covid infections (raw)\n",
    "\n",
    "dfInfec = dfCountry.copy()\n",
    "# set secret_name to number from 0 to length(df)\n",
    "dfInfec[\"secret_name\"] = np.arange(df.shape[0])\n",
    "\n",
    "confirmed =dfInfec[dfInfec['covid19_confirmed_case']=='yes']\n",
    "suspected_raw=dfInfec[dfInfec['covid19_suspected_case']=='yes']\n",
    "noInfec =dfInfec[(dfInfec['covid19_confirmed_case']=='no') & (dfInfec['covid19_suspected_case']=='no')]\n",
    "print(f\"Total patient reported data count: {len(dfInfec.index)},\\nConfirmed cases (raw): {len(confirmed.index)},\\nSuspected cases (raw): {len(suspected_raw.index)},\\nno infection (raw): {len(noInfec.index)}\")\n"
   ]
  },
  {
   "cell_type": "markdown",
   "metadata": {},
   "source": [
    "## Definition of covid_diagnosis criteria (confirmed, suspected, not_suspected)"
   ]
  },
  {
   "cell_type": "code",
   "execution_count": 113,
   "metadata": {},
   "outputs": [
    {
     "name": "stdout",
     "output_type": "stream",
     "text": [
      "41 311 1981 1004\n"
     ]
    }
   ],
   "source": [
    "dfCovid=dfInfec\n",
    "dfCovid[\"covid19_diagnosis\"] = \"missing\"\n",
    "\n",
    "dfCovid.loc[\n",
    "    (dfCovid.covid19_suspected_case==\"yes\") & \n",
    "    ((dfCovid.covid19_sympt_fever==\"yes\")|(dfCovid.covid19_sympt_dry_cough==\"yes\") | (dfCovid.covid19_sympt_loss_smell_taste==\"yes\")),\"covid19_diagnosis\"] = \"suspected\"\n",
    "\n",
    "dfCovid.loc[\n",
    "    ((dfCovid.covid19_sympt_fever==\"yes\")|(dfCovid.covid19_sympt_dry_cough==\"yes\") | (dfCovid.covid19_sympt_loss_smell_taste==\"yes\"))\n",
    "    & ((dfCovid.covid19_sympt_fever==\"yes\")|(dfCovid.covid19_sympt_dry_cough==\"yes\") | (dfCovid.covid19_sympt_loss_smell_taste==\"yes\") | (dfCovid.covid19_sympt_shortness_breath == \"yes\")| (dfCovid.covid19_sympt_pneumonia == \"yes\")\n",
    "    | (dfCovid.covid19_sympt_fatigue==\"yes\") | (dfCovid.covid19_sympt_pain==\"yes\") | (dfCovid.covid19_sympt_nasal_congestion==\"yes\") | \n",
    "    (dfCovid.covid19_sympt_chills==\"yes\")|(dfCovid.covid19_sympt_sore_throat==\"yes\")), \"covid19_diagnosis\"] = \"suspected\"\n",
    "\n",
    "dfCovid.loc[(dfCovid.covid19_confirmed_case==\"yes\"),\"covid19_diagnosis\"] = \"confirmed\"\n",
    "\n",
    "dfCovid.loc[((dfCovid.covid19_confirmed_case==\"no\") & (dfCovid.covid19_suspected_case==\"no\")), \"covid19_diagnosis\"]=\"not_suspected\"\n",
    "\n",
    "dfCovid[[\"covid19_country\",\"covid19_diagnosis\"]]\n",
    "\n",
    "# control of counts of infection distribution\n",
    "print(len(dfCovid[dfCovid[\"covid19_diagnosis\"]==\"confirmed\"].index),\n",
    "len(dfCovid[dfCovid[\"covid19_diagnosis\"]==\"suspected\"].index),\n",
    "len(dfCovid[dfCovid[\"covid19_diagnosis\"]==\"not_suspected\"].index),\n",
    "len(dfCovid[dfCovid[\"covid19_diagnosis\"]==\"missing\"].index))\n",
    "\n",
    "#dfCovid.covid19_country[dfCovid[\"covid19_diagnosis\"]==\"confirmed\"].to_csv('reports/rows_confirmed.csv')\n",
    "#dfCovid.covid19_country[dfCovid[\"covid19_diagnosis\"]==\"suspected\"].to_csv('reports/rows_suspected.csv')"
   ]
  },
  {
   "cell_type": "code",
   "execution_count": null,
   "metadata": {},
   "outputs": [],
   "source": [
    "#dfCovid.groupby(\"covid19_diagnosis\").count()[\"secret_name\"].to_csv(f\"./reports/patients_infection_counts.csv\")\n",
    "dfConf=dfCovid[dfCovid.covid19_diagnosis==\"confirmed\"].groupby(\"covid19_country\").count()[\"secret_name\"]\n",
    "dfSusp=dfCovid[dfCovid.covid19_diagnosis==\"suspected\"].groupby(\"covid19_country\").count()[\"secret_name\"]\n",
    "dfNotSusp=dfCovid[dfCovid.covid19_diagnosis==\"not_suspected\"].groupby(\"covid19_country\").count()[\"secret_name\"]\n",
    "dfMiss=dfCovid[dfCovid.covid19_diagnosis==\"missing\"].groupby(\"covid19_country\").count()[\"secret_name\"]\n",
    "#print(dfConf,dfSusp)\n",
    "\n",
    "# dfConf.to_csv('reports/cases_confirmed_per_country.csv')\n",
    "# dfSusp.to_csv('reports/cases_suspected_per_country.csv')\n",
    "# dfNotSusp.to_csv('reports/cases_not_suspected_per_country.csv')\n",
    "# dfMiss.to_csv('reports/cases_missing_per_country.csv')\n",
    "\n",
    "dfInfStatus=[dfConf,dfSusp,dfNotSusp,dfMiss]\n"
   ]
  },
  {
   "cell_type": "code",
   "execution_count": 12,
   "metadata": {},
   "outputs": [],
   "source": [
    "# Description of numeric data of patient data (enhanced)\n",
    "dfP_enhanced = df_enhanced_all[df_enhanced_all[\"report_source\"]==\"patients\"]\n",
    "dfP_enhanced.describe().to_csv('reports/descr_dfP_enhanced.csv')"
   ]
  },
  {
   "cell_type": "code",
   "execution_count": 13,
   "metadata": {},
   "outputs": [],
   "source": [
    "# Description of numeric data of patient data (cleaned)\n",
    "dfP_cleaned = df_cleaned_all[df_cleaned_all[\"report_source\"]==\"patients\"]\n",
    "dfP_cleaned.describe().to_csv('reports/descr_dfP_cleaned.csv',index=False)"
   ]
  }
 ],
 "metadata": {
  "kernelspec": {
   "display_name": "Python 3",
   "language": "python",
   "name": "python3"
  },
  "language_info": {
   "codemirror_mode": {
    "name": "ipython",
    "version": 3
   },
   "file_extension": ".py",
   "mimetype": "text/x-python",
   "name": "python",
   "nbconvert_exporter": "python",
   "pygments_lexer": "ipython3",
   "version": "3.6.7"
  },
  "pycharm": {
   "stem_cell": {
    "cell_type": "raw",
    "metadata": {
     "collapsed": false
    },
    "source": []
   }
  }
 },
 "nbformat": 4,
 "nbformat_minor": 2
}
