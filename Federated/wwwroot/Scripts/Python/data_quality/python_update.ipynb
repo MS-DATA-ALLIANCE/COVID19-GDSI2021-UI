{
 "cells": [
  {
   "cell_type": "code",
   "execution_count": 12,
   "metadata": {},
   "outputs": [],
   "source": [
    "from qmenta.core.platform import Auth, post, parse_response\n",
    "from getpass import getpass\n",
    "import datetime\n",
    "import pandas as pd"
   ]
  },
  {
   "cell_type": "code",
   "execution_count": 13,
   "metadata": {},
   "outputs": [],
   "source": [
    "# the id of the project to be used\n",
    "project_id = 1081"
   ]
  },
  {
   "cell_type": "code",
   "execution_count": 14,
   "metadata": {},
   "outputs": [
    {
     "name": "stdout",
     "output_type": "stream",
     "text": [
      "········\n"
     ]
    }
   ],
   "source": [
    "# base url to connect to the central platform\n",
    "base_url = \"https://platform.qmenta.com\"\n",
    "# PUT YOUR USERNAME (EMAIL) HERE\n",
    "username = \"edward.debrouwer@esat.kuleuven.be\"\n",
    "# you will be asked for your password here\n",
    "password = getpass()"
   ]
  },
  {
   "cell_type": "code",
   "execution_count": 15,
   "metadata": {},
   "outputs": [],
   "source": [
    "# creation of authentication object\n",
    "auth_obj = Auth.login(username, password, base_url)"
   ]
  },
  {
   "cell_type": "code",
   "execution_count": 24,
   "metadata": {},
   "outputs": [],
   "source": [
    "# status = pass|fail|<empty>\n",
    "# patient_id = take id of the get_subjects_data record\n",
    "# comments = can be any text including HTML\n",
    "# To be eble to execute this you have to be a QC in the project\n",
    "def set_qa_status(project_id, patient_id, status, comments):\n",
    "    r = post(auth_obj, \"/projectset_manager/set_qa_status\", \n",
    "            {\"_pid\":project_id,\n",
    "            \"item_ids\": patient_id,\n",
    "            \"status\": status,\n",
    "            \"comments\": comments,\n",
    "            \"entity\":\"patients\"}, \n",
    "            timeout=600.0)\n",
    "    return parse_response(r)[\"success\"] == 1\n",
    "\n",
    "# method to fetch the subjects data\n",
    "def get_subjects_data(project_id):\n",
    "    r = post(auth_obj, \"/patient_manager/get_patient_list\",\n",
    "            {\"_pid\":project_id},\n",
    "            timeout=600.0)\n",
    "\n",
    "    data_trans = [{\n",
    "            \"id\": record[\"_id\"],\n",
    "            \"secret_name\":record[\"patient_secret_name\"],\n",
    "            **{\n",
    "                k[3:]:record[k]\n",
    "                for k in record\n",
    "                if k[:3] == \"md_\"\n",
    "            }\n",
    "    } for record in parse_response(r)]\n",
    "\n",
    "    for r in data_trans:\n",
    "        for k in r:\n",
    "            if isinstance(r[k], dict):\n",
    "                r[k] = datetime.datetime.fromtimestamp(r[k][\"$date\"]/1000.0)\n",
    "\n",
    "    return data_trans\n"
   ]
  },
  {
   "cell_type": "code",
   "execution_count": 25,
   "metadata": {},
   "outputs": [],
   "source": [
    "def enhance_registry_data(data_in):\n",
    "    \n",
    "    df = pd.DataFrame(data_in)\n",
    "    df[\"Origin\"] = \"Registry\"\n",
    "    df[\"Report_source\"] = \"clinicians\"\n",
    "    df.loc[df.secret_name.str.contains(\"COV0\"),\"Report_source\"] = \"clinicians\"\n",
    "    df.loc[df.secret_name.str.contains(\"COV10\"),\"Report_source\"] = \"patients\"\n",
    "    df.loc[df.secret_name.str.contains(\"COVID14C\"),\"Report_source\"] = \"clinicians\" # AND patient\"\n",
    "    df.loc[df.secret_name.str.contains(\"COV15\"),\"Report_source\"] = \"patients\"\n",
    "    df.loc[df.secret_name.str.contains(\"COV19\"),\"Report_source\"] = \"clinicians\"\n",
    "    \n",
    "    df[\"covid19_diagnosis\"] = \"not_suspected\"\n",
    "\n",
    "    #Patient reported_data \n",
    "    df.loc[(df.Report_source==\"patient\") & (df.covid19_sympt_fever==\"yes\")&(df.covid19_suspected_case==\"yes\") & ((df.covid19_sympt_dry_cough==\"yes\") | (df.covid19_sympt_shortness_breath==\"yes\") | (df.covid19_sympt_pneumonia==\"yes\")),\"covid19_diagnosis\"] = \"suspected\"\n",
    "\n",
    "    df.loc[ (df.Report_source ==\"patient\")\n",
    "            & (df.covid19_sympt_fever==\"yes\")  \n",
    "            & ((df.covid19_sympt_dry_cough==\"yes\") | (df.covid19_sympt_shortness_breath == \"yes\")| (df.covid19_sympt_pneumonia == \"yes\"))\n",
    "            & (((df.covid19_sympt_fatigue==\"yes\") | (df.covid19_sympt_pain==\"yes\")) | (df.covid19_sympt_nasal_congestion==\"yes\") | (df.covid19_sympt_chills==\"yes\")|(df.covid19_sympt_loss_smell_taste==\"yes\")|(df.covid19_sympt_sore_throat==\"yes\")), \"covid19_diagnosis\"] = \"suspected\"\n",
    "\n",
    "    df.loc[ (df.Report_source == \"patient\") & (df.covid19_confirmed_case==\"yes\"),\"covid19_diagnosis\"] = \"confirmed\"\n",
    "\n",
    "    #Clinicians reported data\n",
    "    df.loc[(df.Report_source.str.contains(\"clinician\")) & (df.covid19_suspected_case==\"yes\"),\"covid19_diagnosis\"]= \"suspected\"\n",
    "    df.loc[(df.Report_source.str.contains(\"clinician\")) & (df.covid19_confirmed_case==\"yes\"),\"covid19_diagnosis\"]= \"confirmed\"\n",
    "    \n",
    "    \n",
    "\n",
    "    "
   ]
  },
  {
   "cell_type": "code",
   "execution_count": null,
   "metadata": {},
   "outputs": [],
   "source": [
    "def assess_registry_data():\n",
    "\n"
   ]
  },
  {
   "cell_type": "code",
   "execution_count": null,
   "metadata": {},
   "outputs": [],
   "source": [
    "def repair_registry_data():\n",
    "    "
   ]
  },
  {
   "cell_type": "markdown",
   "metadata": {},
   "source": [
    "### Some cleaning procedures we already had"
   ]
  },
  {
   "cell_type": "code",
   "execution_count": 17,
   "metadata": {},
   "outputs": [
    {
     "name": "stdout",
     "output_type": "stream",
     "text": [
      "········\n",
      "Total number of subjects: 2399\n",
      "Total number of subjects: 1187\n"
     ]
    }
   ],
   "source": [
    "# CREATING REPORT SOURCE (clinician or patients)\n",
    "\n",
    "# the id of the project to be used\n",
    "project_id_reg = 3202\n",
    "project_id_forms = 3150\n",
    "#the ID of the registry project is 3202\n",
    "#the ID of the public forms data is 3150\n",
    "\n",
    "# base url to connect to the central platform\n",
    "base_url = \"https://platform.qmenta.com\"\n",
    "# PUT YOUR USERNAME (EMAIL) HERE\n",
    "username = \"edward.debrouwer@esat.kuleuven.be\"\n",
    "# you will be asked for your password here\n",
    "password = getpass()\n",
    "\n",
    "# creation of authentication object\n",
    "auth_obj = Auth.login(username, password, base_url)\n",
    "\n",
    "# method to fetch the subjects data\n",
    "def get_subjects_data(project_id):\n",
    "    r = post(auth_obj, \"/patient_manager/get_patient_list\",\n",
    "            {\"_pid\":project_id},\n",
    "            timeout=600.0)\n",
    "\n",
    "    return [{\n",
    "                \"secret_name\":record[\"patient_secret_name\"],\n",
    "                **{\n",
    "                    k[3:]:record[k]\n",
    "                    for k in record\n",
    "                    if k[:3] == \"md_\"\n",
    "                }\n",
    "        } for record in parse_response(r)]\n",
    "\n",
    "\n",
    "data_reg = get_subjects_data(project_id_reg)\n",
    "data_forms = get_subjects_data(project_id_forms)\n",
    "print(f\"Total number of subjects: {len(data_reg)}\")\n",
    "print(f\"Total number of subjects: {len(data_forms)}\")\n",
    "\n",
    "df_reg = pd.DataFrame(data_reg)\n",
    "df_reg[\"Origin\"] = \"Registry\"\n",
    "df_forms = pd.DataFrame(data_forms)\n",
    "df_forms[\"Origin\"] = \"Forms\"\n",
    "\n",
    "df_reg[\"Report_source\"] = \"clinicians\"\n",
    "df_forms[\"Report_source\"] = \"clinicians\"\n",
    "\n",
    "#Clean ICONQUERMS mess with COVID10 and replace with COV10\n",
    "#df_reg.loc[df_reg.secret_name.str.contains(\"COVID10\"),\"secret_name\"] = df_reg.loc[df_reg.secret_name.str.contains(\"COVID10\"),\"secret_name\"].apply(lambda x : \"COV10\"+x[7:])\n",
    "\n",
    "df_reg.loc[df_reg.secret_name.str.contains(\"COV0\"),\"Report_source\"] = \"clinicians\"\n",
    "df_reg.loc[df_reg.secret_name.str.contains(\"COV10\"),\"Report_source\"] = \"patients\"\n",
    "df_reg.loc[df_reg.secret_name.str.contains(\"COVID14C\"),\"Report_source\"] = \"clinicians\" # AND patient\"\n",
    "df_reg.loc[df_reg.secret_name.str.contains(\"COV15\"),\"Report_source\"] = \"patients\"\n",
    "df_reg.loc[df_reg.secret_name.str.contains(\"COV19\"),\"Report_source\"] = \"clinicians\"\n",
    "\n",
    "df_forms.loc[df_forms.secret_name.str.contains(\"C_\"),\"Report_source\"] = \"clinicians\"\n",
    "df_forms.loc[df_forms.secret_name.str.contains(\"P_\"),\"Report_source\"] = \"patients\"\n",
    "\n",
    "df = pd.concat([df_reg,df_forms],sort = True)\n",
    "\n",
    "df.drop_duplicates(subset = [\"secret_name\"], inplace = True)\n",
    "\n",
    "df_clinicians = df.loc[df.Report_source.str.contains(\"clinicians\")].copy()\n",
    "df_patients = df.loc[df.Report_source.str.contains(\"patients\")].copy()\n"
   ]
  },
  {
   "cell_type": "code",
   "execution_count": 18,
   "metadata": {},
   "outputs": [],
   "source": [
    "#CREATION OF THE COVID19_diagnosis\n",
    "df[\"covid19_diagnosis\"] = \"not_suspected\"\n",
    "\n",
    "#Patient reported_data \n",
    "df.loc[(df.Report_source==\"patient\") & (df.covid19_sympt_fever==\"yes\")&(df.covid19_suspected_case==\"yes\") & ((df.covid19_sympt_dry_cough==\"yes\") | (df.covid19_sympt_shortness_breath==\"yes\") | (df.covid19_sympt_pneumonia==\"yes\")),\"covid19_diagnosis\"] = \"suspected\"\n",
    "\n",
    "df.loc[ (df.Report_source ==\"patient\")\n",
    "        & (df.covid19_sympt_fever==\"yes\")  \n",
    "        & ((df.covid19_sympt_dry_cough==\"yes\") | (df.covid19_sympt_shortness_breath == \"yes\")| (df.covid19_sympt_pneumonia == \"yes\"))\n",
    "        & (((df.covid19_sympt_fatigue==\"yes\") | (df.covid19_sympt_pain==\"yes\")) | (df.covid19_sympt_nasal_congestion==\"yes\") | (df.covid19_sympt_chills==\"yes\")|(df.covid19_sympt_loss_smell_taste==\"yes\")|(df.covid19_sympt_sore_throat==\"yes\")), \"covid19_diagnosis\"] = \"suspected\"\n",
    "\n",
    "df.loc[ (df.Report_source == \"patient\") & (df.covid19_confirmed_case==\"yes\"),\"covid19_diagnosis\"] = \"confirmed\"\n",
    "\n",
    "#Clinicians reported data\n",
    "df.loc[(df.Report_source.str.contains(\"clinician\")) & (df.covid19_suspected_case==\"yes\"),\"covid19_diagnosis\"]= \"suspected\"\n",
    "df.loc[(df.Report_source.str.contains(\"clinician\")) & (df.covid19_confirmed_case==\"yes\"),\"covid19_diagnosis\"]= \"confirmed\""
   ]
  },
  {
   "cell_type": "code",
   "execution_count": 19,
   "metadata": {},
   "outputs": [],
   "source": [
    "def clean_heights_weights(df_in):\n",
    "    df = df_in.copy()\n",
    "    df.height = pd.to_numeric(df.height,errors = \"coerce\")\n",
    "    df.weight = pd.to_numeric(df.weight, errors = \"coerce\")\n",
    "    df.loc[(df.height<100) | (df.height>210), \"height\"] = np.nan\n",
    "    df.loc[(df.weight<30) | (df.weight>300), \"weight\"] = np.nan\n",
    "    return df\n",
    "\n",
    "#Clean heights and weights AND CREATE BMI \n",
    "if ((\"weight\" in df) and (\"height\" in df)):\n",
    "    df = clean_heights_weights(df)\n",
    "    df[\"bmi\"] = df.weight/ (df.height/100)**2\n",
    "else:\n",
    "    print(f\" Warning : weight or height not in data !\")"
   ]
  },
  {
   "cell_type": "code",
   "execution_count": 20,
   "metadata": {},
   "outputs": [],
   "source": [
    "def create_edss_cat(df_in):\n",
    "    df = df_in.copy()\n",
    "    # EDSS in cat\n",
    "    if \"edss_value\" in df:\n",
    "        df[\"edss_in_cat\"] = None\n",
    "\n",
    "        df['edss_value'] = pd.to_numeric(df['edss_value'],errors='coerce')\n",
    "        df.loc[(df.edss_value>0) & (df.edss_value<=3),\"edss_in_cat\"] = 0\n",
    "        df.loc[(df.edss_value>3) & (df.edss_value<=6),\"edss_in_cat\"] = 1\n",
    "        df.loc[(df.edss_value>6),\"edss_in_cat\"] = 2\n",
    "    else:\n",
    "        print(f\" Warning : edss_value not in data !\")"
   ]
  },
  {
   "cell_type": "code",
   "execution_count": 21,
   "metadata": {},
   "outputs": [],
   "source": [
    "def create_bmi_cat(df_in):\n",
    "    df = df_in.copy()\n",
    "    # BMI in cat\n",
    "    if \"bmi\" in df:\n",
    "        df[\"bmi_in_cat\"] = None\n",
    "        df.loc[(df.bmi<18.5) & (df.bmi>0),\"bmi_in_cat\"] = \"underweight\"\n",
    "        df.loc[(df.bmi<=25) & (df.bmi>=18.5),\"bmi_in_cat\"] = \"normal\"\n",
    "        df.loc[(df.bmi<=30) & (df.bmi>25),\"bmi_in_cat\"] = \"overweight\"\n",
    "        df.loc[(df.bmi<=35) & (df.bmi>30),\"bmi_in_cat\"] = \"class I obesity\"\n",
    "        df.loc[ (df.bmi>35),\"bmi_in_cat\"] = \"class II obesity\"\n",
    "        \n",
    "        df[\"bmi_in_cat2\"] = None\n",
    "        df.loc[df.bmi<=25,\"bmi_in_cat2\"] = \"not_overweight\"\n",
    "        df.loc[df.bmi>25,\"bmi_in_cat2\"]  = \"overweight\""
   ]
  },
  {
   "cell_type": "code",
   "execution_count": 22,
   "metadata": {},
   "outputs": [],
   "source": [
    "def create_age_cat(df_in):\n",
    "    df = df_in.copy()\n",
    "    if \"age_years\" in df:\n",
    "        df[\"Age_in_cat\"] = None\n",
    "        df.loc[(df.age_years<18) & (df.age_years>0),\"Age_in_cat\"] = 0\n",
    "        df.loc[(df.age_years<=50) & (df.age_years>=18),\"Age_in_cat\"] = 1\n",
    "        df.loc[(df.age_years<=70) & (df.age_years>50),\"Age_in_cat\"] = 2\n",
    "        df.loc[ (df.age_years>70),\"Age_in_cat\"] = 3"
   ]
  },
  {
   "cell_type": "code",
   "execution_count": null,
   "metadata": {},
   "outputs": [],
   "source": []
  }
 ],
 "metadata": {
  "kernelspec": {
   "display_name": "Python 3",
   "language": "python",
   "name": "python3"
  },
  "language_info": {
   "codemirror_mode": {
    "name": "ipython",
    "version": 3
   },
   "file_extension": ".py",
   "mimetype": "text/x-python",
   "name": "python",
   "nbconvert_exporter": "python",
   "pygments_lexer": "ipython3",
   "version": "3.6.8"
  }
 },
 "nbformat": 4,
 "nbformat_minor": 2
}
